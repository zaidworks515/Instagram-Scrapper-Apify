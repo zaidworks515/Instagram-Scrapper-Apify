{
 "cells": [
  {
   "cell_type": "code",
   "execution_count": 1,
   "metadata": {},
   "outputs": [],
   "source": [
    "from apify_client import ApifyClient\n",
    "import pandas as pd\n",
    "\n",
    "token = \"apify_api_VkyngW03htx8rZW6YHn5g3pnveQdNo4d2ASc\"\n",
    "\n",
    "def scrape_data(token, hashtag1=None, hashtag2=None, hashtag3=None):\n",
    "    client = ApifyClient(token)\n",
    "    run_input = None\n",
    "    if hashtag1:\n",
    "        run_input = {\n",
    "        \"hashtags\": [hashtag1],\n",
    "        \"resultsLimit\": 5,\n",
    "        }\n",
    "    elif hashtag1 and hashtag2:\n",
    "        run_input = {\n",
    "        \"hashtags\": [hashtag1,hashtag2],\n",
    "        \"resultsLimit\": 10,\n",
    "        }\n",
    "    elif hashtag1 and hashtag2 and hashtag3:\n",
    "        run_input = {\n",
    "        \"hashtags\": [hashtag1,hashtag2,hashtag3],\n",
    "        \"resultsLimit\": 10,\n",
    "        }\n",
    "    \n",
    "    run = client.actor(\"reGe1ST3OBgYZSsZJ\").call(run_input=run_input)\n",
    "    items = list(client.dataset(run[\"defaultDatasetId\"]).iterate_items())\n",
    "    columns_list = list(items[0].keys())\n",
    "\n",
    "    dataframe = pd.DataFrame(items)\n",
    "    dataframe = dataframe.reindex(columns=columns_list, fill_value=None)\n",
    "\n",
    "    return dataframe"
   ]
  },
  {
   "cell_type": "code",
   "execution_count": 2,
   "metadata": {},
   "outputs": [],
   "source": [
    "scrapped_dataframe = scrape_data(token=token, hashtag1='webscraping')"
   ]
  },
  {
   "cell_type": "code",
   "execution_count": null,
   "metadata": {},
   "outputs": [],
   "source": [
    "def preprocessing_dataframe(dataframe):\n",
    "    try:\n",
    "        existed_dataframe = pd.read_csv('scrapped data/data.csv')\n",
    "        merged_data = pd.concat([existed_dataframe, dataframe], ignore_index=True)\n",
    "        merged_data = merged_data.drop_duplicates(subset='ownerUsername', keep='first')\n",
    "        merged_data.to_csv('scrapped data/data.csv', index=False)\n",
    "        return merged_data\n",
    "    except:\n",
    "        new_dataframe = dataframe\n",
    "        new_dataframe = dataframe.drop_duplicates(subset='ownerUsername', keep='first')\n",
    "        new_dataframe.to_csv('scrapped data/data.csv', index=False)\n",
    "        return new_dataframe\n",
    "    \n"
   ]
  },
  {
   "cell_type": "code",
   "execution_count": 5,
   "metadata": {},
   "outputs": [],
   "source": [
    "from apify_client import ApifyClient\n",
    "\n",
    "client = ApifyClient(\"apify_api_VkyngW03htx8rZW6YHn5g3pnveQdNo4d2ASc\")\n",
    "\n",
    "run_input = { \"usernames\": [\"ssdn_technologies\", \"pacificislands.ai\", \"fk_bytes\"]}\n",
    "\n",
    "run = client.actor(\"dSCLg0C3YEZ83HzYX\").call(run_input=run_input)\n",
    "\n",
    "items = list(client.dataset(run[\"defaultDatasetId\"]).iterate_items())\n",
    "\n"
   ]
  },
  {
   "cell_type": "code",
   "execution_count": 6,
   "metadata": {},
   "outputs": [],
   "source": [
    "columns_list = list(items[0].keys())\n",
    "\n",
    "dataframe = pd.DataFrame(items)\n",
    "dataframe = dataframe.reindex(columns=columns_list, fill_value=None)"
   ]
  },
  {
   "cell_type": "code",
   "execution_count": 10,
   "metadata": {},
   "outputs": [],
   "source": [
    "dataframe = dataframe[['username', 'fullName', 'biography', 'externalUrl', 'followersCount', 'followsCount', 'hasChannel',\n",
    "                       'highlightReelCount', 'isBusinessAccount', 'joinedRecently', 'businessCategoryName', \n",
    "                       'private', 'verified', 'postsCount', ]]\n",
    "\n",
    "dataframe = dataframe.drop_duplicates(keep='first')\n",
    "dataframe.to_csv('demo.csv', index=False)"
   ]
  },
  {
   "cell_type": "code",
   "execution_count": null,
   "metadata": {},
   "outputs": [
    {
     "data": {
      "text/plain": [
       "['SSDN Technologies', 'Pacific Islands AI', 'fikayo adele']"
      ]
     },
     "execution_count": 13,
     "metadata": {},
     "output_type": "execute_result"
    }
   ],
   "source": [
    "dataframe  = dataframe['ownerUsername'].to_list()\n",
    "dataframe"
   ]
  },
  {
   "cell_type": "markdown",
   "metadata": {},
   "source": [
    "# Cloudinary uploading"
   ]
  },
  {
   "cell_type": "code",
   "execution_count": null,
   "metadata": {},
   "outputs": [
    {
     "ename": "ValueError",
     "evalue": "The truth value of a DataFrame is ambiguous. Use a.empty, a.bool(), a.item(), a.any() or a.all().",
     "output_type": "error",
     "traceback": [
      "\u001b[1;31m---------------------------------------------------------------------------\u001b[0m",
      "\u001b[1;31mValueError\u001b[0m                                Traceback (most recent call last)",
      "\u001b[1;32m~\\AppData\\Local\\Temp\\ipykernel_1396\\1224306995.py\u001b[0m in \u001b[0;36m?\u001b[1;34m()\u001b[0m\n\u001b[0;32m      9\u001b[0m     \u001b[0mapi_secret\u001b[0m \u001b[1;33m=\u001b[0m \u001b[0mcloudinary_secret_key\u001b[0m\u001b[1;33m,\u001b[0m\u001b[1;33m\u001b[0m\u001b[1;33m\u001b[0m\u001b[0m\n\u001b[0;32m     10\u001b[0m     \u001b[0msecure\u001b[0m\u001b[1;33m=\u001b[0m\u001b[1;32mTrue\u001b[0m\u001b[1;33m\u001b[0m\u001b[1;33m\u001b[0m\u001b[0m\n\u001b[0;32m     11\u001b[0m )\n\u001b[0;32m     12\u001b[0m \u001b[1;33m\u001b[0m\u001b[0m\n\u001b[1;32m---> 13\u001b[1;33m upload_result = cloudinary.uploader.upload(dataframe,\n\u001b[0m\u001b[0;32m     14\u001b[0m                                            public_id=\"dataframe\", resource_type=\"raw\")\n",
      "\u001b[1;32md:\\techxaura\\venv\\lib\\site-packages\\cloudinary\\uploader.py\u001b[0m in \u001b[0;36m?\u001b[1;34m(file, **options)\u001b[0m\n\u001b[0;32m     43\u001b[0m \u001b[1;32mdef\u001b[0m \u001b[0mupload\u001b[0m\u001b[1;33m(\u001b[0m\u001b[0mfile\u001b[0m\u001b[1;33m,\u001b[0m \u001b[1;33m**\u001b[0m\u001b[0moptions\u001b[0m\u001b[1;33m)\u001b[0m\u001b[1;33m:\u001b[0m\u001b[1;33m\u001b[0m\u001b[1;33m\u001b[0m\u001b[0m\n\u001b[0;32m     44\u001b[0m     \u001b[0mparams\u001b[0m \u001b[1;33m=\u001b[0m \u001b[0mutils\u001b[0m\u001b[1;33m.\u001b[0m\u001b[0mbuild_upload_params\u001b[0m\u001b[1;33m(\u001b[0m\u001b[1;33m**\u001b[0m\u001b[0moptions\u001b[0m\u001b[1;33m)\u001b[0m\u001b[1;33m\u001b[0m\u001b[1;33m\u001b[0m\u001b[0m\n\u001b[1;32m---> 45\u001b[1;33m     \u001b[1;32mreturn\u001b[0m \u001b[0mcall_cacheable_api\u001b[0m\u001b[1;33m(\u001b[0m\u001b[1;34m\"upload\"\u001b[0m\u001b[1;33m,\u001b[0m \u001b[0mparams\u001b[0m\u001b[1;33m,\u001b[0m \u001b[0mfile\u001b[0m\u001b[1;33m=\u001b[0m\u001b[0mfile\u001b[0m\u001b[1;33m,\u001b[0m \u001b[1;33m**\u001b[0m\u001b[0moptions\u001b[0m\u001b[1;33m)\u001b[0m\u001b[1;33m\u001b[0m\u001b[1;33m\u001b[0m\u001b[0m\n\u001b[0m",
      "\u001b[1;32md:\\techxaura\\venv\\lib\\site-packages\\cloudinary\\uploader.py\u001b[0m in \u001b[0;36m?\u001b[1;34m(action, params, http_headers, return_error, unsigned, file, timeout, **options)\u001b[0m\n\u001b[0;32m    458\u001b[0m     \"\"\"\n\u001b[0;32m    459\u001b[0m     \u001b[0mCalls\u001b[0m \u001b[0mUpload\u001b[0m \u001b[0mAPI\u001b[0m \u001b[1;32mand\u001b[0m \u001b[0msaves\u001b[0m \u001b[0mresults\u001b[0m \u001b[0mto\u001b[0m \u001b[0mcache\u001b[0m \u001b[1;33m(\u001b[0m\u001b[1;32mif\u001b[0m \u001b[0menabled\u001b[0m\u001b[1;33m)\u001b[0m\u001b[1;33m\u001b[0m\u001b[1;33m\u001b[0m\u001b[0m\n\u001b[0;32m    460\u001b[0m     \"\"\"\n\u001b[0;32m    461\u001b[0m \u001b[1;33m\u001b[0m\u001b[0m\n\u001b[1;32m--> 462\u001b[1;33m     \u001b[0mresult\u001b[0m \u001b[1;33m=\u001b[0m \u001b[0mcall_api\u001b[0m\u001b[1;33m(\u001b[0m\u001b[0maction\u001b[0m\u001b[1;33m,\u001b[0m \u001b[0mparams\u001b[0m\u001b[1;33m,\u001b[0m \u001b[0mhttp_headers\u001b[0m\u001b[1;33m,\u001b[0m \u001b[0mreturn_error\u001b[0m\u001b[1;33m,\u001b[0m \u001b[0munsigned\u001b[0m\u001b[1;33m,\u001b[0m \u001b[0mfile\u001b[0m\u001b[1;33m,\u001b[0m \u001b[0mtimeout\u001b[0m\u001b[1;33m,\u001b[0m \u001b[1;33m**\u001b[0m\u001b[0moptions\u001b[0m\u001b[1;33m)\u001b[0m\u001b[1;33m\u001b[0m\u001b[1;33m\u001b[0m\u001b[0m\n\u001b[0m\u001b[0;32m    463\u001b[0m \u001b[1;33m\u001b[0m\u001b[0m\n\u001b[0;32m    464\u001b[0m     \u001b[1;32mif\u001b[0m \u001b[1;34m\"use_cache\"\u001b[0m \u001b[1;32min\u001b[0m \u001b[0moptions\u001b[0m \u001b[1;32mor\u001b[0m \u001b[0mcloudinary\u001b[0m\u001b[1;33m.\u001b[0m\u001b[0mconfig\u001b[0m\u001b[1;33m(\u001b[0m\u001b[1;33m)\u001b[0m\u001b[1;33m.\u001b[0m\u001b[0muse_cache\u001b[0m\u001b[1;33m:\u001b[0m\u001b[1;33m\u001b[0m\u001b[1;33m\u001b[0m\u001b[0m\n\u001b[0;32m    465\u001b[0m         \u001b[0m_save_responsive_breakpoints_to_cache\u001b[0m\u001b[1;33m(\u001b[0m\u001b[0mresult\u001b[0m\u001b[1;33m)\u001b[0m\u001b[1;33m\u001b[0m\u001b[1;33m\u001b[0m\u001b[0m\n",
      "\u001b[1;32md:\\techxaura\\venv\\lib\\site-packages\\cloudinary\\uploader.py\u001b[0m in \u001b[0;36m?\u001b[1;34m(action, params, http_headers, return_error, unsigned, file, timeout, extra_headers, **options)\u001b[0m\n\u001b[0;32m    495\u001b[0m             \u001b[0mparam_list\u001b[0m\u001b[1;33m.\u001b[0m\u001b[0mappend\u001b[0m\u001b[1;33m(\u001b[0m\u001b[1;33m(\u001b[0m\u001b[0mk\u001b[0m\u001b[1;33m,\u001b[0m \u001b[0mv\u001b[0m\u001b[1;33m)\u001b[0m\u001b[1;33m)\u001b[0m\u001b[1;33m\u001b[0m\u001b[1;33m\u001b[0m\u001b[0m\n\u001b[0;32m    496\u001b[0m \u001b[1;33m\u001b[0m\u001b[0m\n\u001b[0;32m    497\u001b[0m     \u001b[0mapi_url\u001b[0m \u001b[1;33m=\u001b[0m \u001b[0mutils\u001b[0m\u001b[1;33m.\u001b[0m\u001b[0mcloudinary_api_url\u001b[0m\u001b[1;33m(\u001b[0m\u001b[0maction\u001b[0m\u001b[1;33m,\u001b[0m \u001b[1;33m**\u001b[0m\u001b[0moptions\u001b[0m\u001b[1;33m)\u001b[0m\u001b[1;33m\u001b[0m\u001b[1;33m\u001b[0m\u001b[0m\n\u001b[0;32m    498\u001b[0m \u001b[1;33m\u001b[0m\u001b[0m\n\u001b[1;32m--> 499\u001b[1;33m     \u001b[1;32mif\u001b[0m \u001b[0mfile\u001b[0m\u001b[1;33m:\u001b[0m\u001b[1;33m\u001b[0m\u001b[1;33m\u001b[0m\u001b[0m\n\u001b[0m\u001b[0;32m    500\u001b[0m         \u001b[0mfilename\u001b[0m \u001b[1;33m=\u001b[0m \u001b[0moptions\u001b[0m\u001b[1;33m.\u001b[0m\u001b[0mget\u001b[0m\u001b[1;33m(\u001b[0m\u001b[1;34m\"filename\"\u001b[0m\u001b[1;33m)\u001b[0m  \u001b[1;31m# Custom filename provided by user (relevant only for streams and files)\u001b[0m\u001b[1;33m\u001b[0m\u001b[1;33m\u001b[0m\u001b[0m\n\u001b[0;32m    501\u001b[0m         \u001b[0mparam_list\u001b[0m\u001b[1;33m.\u001b[0m\u001b[0mappend\u001b[0m\u001b[1;33m(\u001b[0m\u001b[1;33m(\u001b[0m\u001b[1;34m\"file\"\u001b[0m\u001b[1;33m,\u001b[0m \u001b[0mutils\u001b[0m\u001b[1;33m.\u001b[0m\u001b[0mhandle_file_parameter\u001b[0m\u001b[1;33m(\u001b[0m\u001b[0mfile\u001b[0m\u001b[1;33m,\u001b[0m \u001b[0mfilename\u001b[0m\u001b[1;33m)\u001b[0m\u001b[1;33m)\u001b[0m\u001b[1;33m)\u001b[0m\u001b[1;33m\u001b[0m\u001b[1;33m\u001b[0m\u001b[0m\n\u001b[0;32m    502\u001b[0m \u001b[1;33m\u001b[0m\u001b[0m\n",
      "\u001b[1;32md:\\techxaura\\venv\\lib\\site-packages\\pandas\\core\\generic.py\u001b[0m in \u001b[0;36m?\u001b[1;34m(self)\u001b[0m\n\u001b[0;32m   1575\u001b[0m     \u001b[1;33m@\u001b[0m\u001b[0mfinal\u001b[0m\u001b[1;33m\u001b[0m\u001b[1;33m\u001b[0m\u001b[0m\n\u001b[0;32m   1576\u001b[0m     \u001b[1;32mdef\u001b[0m \u001b[0m__nonzero__\u001b[0m\u001b[1;33m(\u001b[0m\u001b[0mself\u001b[0m\u001b[1;33m)\u001b[0m \u001b[1;33m->\u001b[0m \u001b[0mNoReturn\u001b[0m\u001b[1;33m:\u001b[0m\u001b[1;33m\u001b[0m\u001b[1;33m\u001b[0m\u001b[0m\n\u001b[1;32m-> 1577\u001b[1;33m         raise ValueError(\n\u001b[0m\u001b[0;32m   1578\u001b[0m             \u001b[1;34mf\"The truth value of a {type(self).__name__} is ambiguous. \"\u001b[0m\u001b[1;33m\u001b[0m\u001b[1;33m\u001b[0m\u001b[0m\n\u001b[0;32m   1579\u001b[0m             \u001b[1;34m\"Use a.empty, a.bool(), a.item(), a.any() or a.all().\"\u001b[0m\u001b[1;33m\u001b[0m\u001b[1;33m\u001b[0m\u001b[0m\n\u001b[0;32m   1580\u001b[0m         )\n",
      "\u001b[1;31mValueError\u001b[0m: The truth value of a DataFrame is ambiguous. Use a.empty, a.bool(), a.item(), a.any() or a.all()."
     ]
    }
   ],
   "source": [
    "from config import cloudinary_secret_key, cloudinary_api_key, cloudinary_name\n",
    "\n",
    "import cloudinary\n",
    "import cloudinary.uploader\n",
    "\n",
    "cloudinary.config( \n",
    "    cloud_name = cloudinary_name, \n",
    "    api_key = cloudinary_api_key, \n",
    "    api_secret = cloudinary_secret_key, \n",
    "    secure=True\n",
    ")\n",
    "\n",
    "upload_result = cloudinary.uploader.upload(\"scrapped data/8c1ef3ef-921c-4a3c-9fe8-4b078881bc43.csv\",\n",
    "                                           public_id=\"dataframe\", resource_type=\"raw\")\n"
   ]
  },
  {
   "cell_type": "code",
   "execution_count": 8,
   "metadata": {},
   "outputs": [
    {
     "data": {
      "text/plain": [
       "'http://res.cloudinary.com/dqbmtsgn3/raw/upload/v1733051054/dataframe.csv'"
      ]
     },
     "execution_count": 8,
     "metadata": {},
     "output_type": "execute_result"
    }
   ],
   "source": [
    "upload_result['url']"
   ]
  },
  {
   "cell_type": "markdown",
   "metadata": {},
   "source": []
  },
  {
   "cell_type": "code",
   "execution_count": null,
   "metadata": {},
   "outputs": [],
   "source": []
  }
 ],
 "metadata": {
  "kernelspec": {
   "display_name": "Python 3",
   "language": "python",
   "name": "python3"
  },
  "language_info": {
   "codemirror_mode": {
    "name": "ipython",
    "version": 3
   },
   "file_extension": ".py",
   "mimetype": "text/x-python",
   "name": "python",
   "nbconvert_exporter": "python",
   "pygments_lexer": "ipython3",
   "version": "3.10.6"
  }
 },
 "nbformat": 4,
 "nbformat_minor": 2
}
