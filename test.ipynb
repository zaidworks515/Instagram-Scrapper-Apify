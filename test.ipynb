{
 "cells": [
  {
   "cell_type": "code",
   "execution_count": 1,
   "metadata": {},
   "outputs": [],
   "source": [
    "from apify_client import ApifyClient\n",
    "import pandas as pd\n",
    "\n",
    "token = \"apify_api_VkyngW03htx8rZW6YHn5g3pnveQdNo4d2ASc\"\n",
    "\n",
    "def scrape_data(token, hashtag1=None, hashtag2=None, hashtag3=None):\n",
    "    client = ApifyClient(token)\n",
    "    run_input = None\n",
    "    if hashtag1:\n",
    "        run_input = {\n",
    "        \"hashtags\": [hashtag1],\n",
    "        \"resultsLimit\": 5,\n",
    "        }\n",
    "    elif hashtag1 and hashtag2:\n",
    "        run_input = {\n",
    "        \"hashtags\": [hashtag1,hashtag2],\n",
    "        \"resultsLimit\": 10,\n",
    "        }\n",
    "    elif hashtag1 and hashtag2 and hashtag3:\n",
    "        run_input = {\n",
    "        \"hashtags\": [hashtag1,hashtag2,hashtag3],\n",
    "        \"resultsLimit\": 10,\n",
    "        }\n",
    "    \n",
    "    run = client.actor(\"reGe1ST3OBgYZSsZJ\").call(run_input=run_input)\n",
    "    items = list(client.dataset(run[\"defaultDatasetId\"]).iterate_items())\n",
    "    columns_list = list(items[0].keys())\n",
    "\n",
    "    dataframe = pd.DataFrame(items)\n",
    "    dataframe = dataframe.reindex(columns=columns_list, fill_value=None)\n",
    "\n",
    "    return dataframe"
   ]
  },
  {
   "cell_type": "code",
   "execution_count": 2,
   "metadata": {},
   "outputs": [],
   "source": [
    "scrapped_dataframe = scrape_data(token=token, hashtag1='webscraping')"
   ]
  },
  {
   "cell_type": "code",
   "execution_count": null,
   "metadata": {},
   "outputs": [],
   "source": [
    "def preprocessing_dataframe(dataframe):\n",
    "    try:\n",
    "        existed_dataframe = pd.read_csv('scrapped data/data.csv')\n",
    "        merged_data = pd.concat([existed_dataframe, dataframe], ignore_index=True)\n",
    "        merged_data = merged_data.drop_duplicates(subset='ownerUsername', keep='first')\n",
    "        merged_data.to_csv('scrapped data/data.csv', index=False)\n",
    "        return merged_data\n",
    "    except:\n",
    "        new_dataframe = dataframe\n",
    "        new_dataframe = dataframe.drop_duplicates(subset='ownerUsername', keep='first')\n",
    "        new_dataframe.to_csv('scrapped data/data.csv', index=False)\n",
    "        return new_dataframe\n",
    "    \n"
   ]
  },
  {
   "cell_type": "code",
   "execution_count": 5,
   "metadata": {},
   "outputs": [],
   "source": [
    "from apify_client import ApifyClient\n",
    "\n",
    "client = ApifyClient(\"apify_api_VkyngW03htx8rZW6YHn5g3pnveQdNo4d2ASc\")\n",
    "\n",
    "run_input = { \"usernames\": [\"ssdn_technologies\", \"pacificislands.ai\", \"fk_bytes\"]}\n",
    "\n",
    "run = client.actor(\"dSCLg0C3YEZ83HzYX\").call(run_input=run_input)\n",
    "\n",
    "items = list(client.dataset(run[\"defaultDatasetId\"]).iterate_items())\n",
    "\n"
   ]
  },
  {
   "cell_type": "code",
   "execution_count": 6,
   "metadata": {},
   "outputs": [],
   "source": [
    "columns_list = list(items[0].keys())\n",
    "\n",
    "dataframe = pd.DataFrame(items)\n",
    "dataframe = dataframe.reindex(columns=columns_list, fill_value=None)"
   ]
  },
  {
   "cell_type": "code",
   "execution_count": 10,
   "metadata": {},
   "outputs": [],
   "source": [
    "dataframe = dataframe[['username', 'fullName', 'biography', 'externalUrl', 'followersCount', 'followsCount', 'hasChannel',\n",
    "                       'highlightReelCount', 'isBusinessAccount', 'joinedRecently', 'businessCategoryName', \n",
    "                       'private', 'verified', 'postsCount', ]]\n",
    "\n",
    "dataframe = dataframe.drop_duplicates(keep='first')\n",
    "dataframe.to_csv('demo.csv', index=False)"
   ]
  },
  {
   "cell_type": "code",
   "execution_count": null,
   "metadata": {},
   "outputs": [
    {
     "data": {
      "text/plain": [
       "['SSDN Technologies', 'Pacific Islands AI', 'fikayo adele']"
      ]
     },
     "execution_count": 13,
     "metadata": {},
     "output_type": "execute_result"
    }
   ],
   "source": [
    "dataframe  = dataframe['ownerUsername'].to_list()\n",
    "dataframe"
   ]
  },
  {
   "cell_type": "markdown",
   "metadata": {},
   "source": [
    "# Cloudinary uploading"
   ]
  },
  {
   "cell_type": "code",
   "execution_count": 1,
   "metadata": {},
   "outputs": [],
   "source": [
    "import pandas as pd\n",
    "\n",
    "dataframe = pd.DataFrame()\n",
    "dataframe.to_csv('demo.csv')"
   ]
  },
  {
   "cell_type": "code",
   "execution_count": 2,
   "metadata": {},
   "outputs": [
    {
     "ename": "ValueError",
     "evalue": "Must supply api_key",
     "output_type": "error",
     "traceback": [
      "\u001b[1;31m---------------------------------------------------------------------------\u001b[0m",
      "\u001b[1;31mValueError\u001b[0m                                Traceback (most recent call last)",
      "Cell \u001b[1;32mIn[2], line 16\u001b[0m\n\u001b[0;32m      4\u001b[0m \u001b[38;5;28;01mimport\u001b[39;00m \u001b[38;5;21;01mcloudinary\u001b[39;00m\u001b[38;5;21;01m.\u001b[39;00m\u001b[38;5;21;01muploader\u001b[39;00m\n\u001b[0;32m      6\u001b[0m \u001b[38;5;66;03m# cloudinary.config( \u001b[39;00m\n\u001b[0;32m      7\u001b[0m \u001b[38;5;66;03m#     cloud_name = cloudinary_name, \u001b[39;00m\n\u001b[0;32m      8\u001b[0m \u001b[38;5;66;03m#     api_key = cloudinary_api_key, \u001b[39;00m\n\u001b[1;32m   (...)\u001b[0m\n\u001b[0;32m     13\u001b[0m \u001b[38;5;66;03m# upload_result = cloudinary.uploader.upload(\"demo.csv\",\u001b[39;00m\n\u001b[0;32m     14\u001b[0m \u001b[38;5;66;03m#                                            public_id=\"dataframe\", resource_type=\"raw\")\u001b[39;00m\n\u001b[1;32m---> 16\u001b[0m upload_result \u001b[38;5;241m=\u001b[39m \u001b[43mcloudinary\u001b[49m\u001b[38;5;241;43m.\u001b[39;49m\u001b[43muploader\u001b[49m\u001b[38;5;241;43m.\u001b[39;49m\u001b[43mupload\u001b[49m\u001b[43m(\u001b[49m\u001b[38;5;124;43mf\u001b[39;49m\u001b[38;5;124;43m\"\u001b[39;49m\u001b[38;5;124;43mdemo.csv\u001b[39;49m\u001b[38;5;124;43m\"\u001b[39;49m\u001b[43m,\u001b[49m\n\u001b[0;32m     17\u001b[0m \u001b[43m                                    \u001b[49m\u001b[43mpublic_id\u001b[49m\u001b[38;5;241;43m=\u001b[39;49m\u001b[38;5;124;43m'\u001b[39;49m\u001b[38;5;124;43m123\u001b[39;49m\u001b[38;5;124;43m'\u001b[39;49m\u001b[43m,\u001b[49m\u001b[43m \u001b[49m\u001b[43mresource_type\u001b[49m\u001b[38;5;241;43m=\u001b[39;49m\u001b[38;5;124;43m\"\u001b[39;49m\u001b[38;5;124;43mraw\u001b[39;49m\u001b[38;5;124;43m\"\u001b[39;49m\u001b[43m,\u001b[49m\n\u001b[0;32m     18\u001b[0m \u001b[43m                                    \u001b[49m\u001b[43mtimeout\u001b[49m\u001b[38;5;241;43m=\u001b[39;49m\u001b[38;5;241;43m120000\u001b[39;49m\u001b[43m,\u001b[49m\n\u001b[0;32m     19\u001b[0m \u001b[43m                                    \u001b[49m\u001b[43mcloudinary_secret_key\u001b[49m\u001b[38;5;241;43m=\u001b[39;49m\u001b[43mcloudinary_secret_key\u001b[49m\u001b[43m,\u001b[49m\u001b[43m \u001b[49m\n\u001b[0;32m     20\u001b[0m \u001b[43m                                    \u001b[49m\u001b[43mcloudinary_api_key\u001b[49m\u001b[38;5;241;43m=\u001b[39;49m\u001b[43mcloudinary_api_key\u001b[49m\u001b[43m,\u001b[49m\u001b[43m \u001b[49m\n\u001b[0;32m     21\u001b[0m \u001b[43m                                    \u001b[49m\u001b[43mcloudinary_name\u001b[49m\u001b[38;5;241;43m=\u001b[39;49m\u001b[43mcloudinary_name\u001b[49m\u001b[43m)\u001b[49m\n",
      "File \u001b[1;32md:\\techxaura\\venv\\lib\\site-packages\\cloudinary\\uploader.py:45\u001b[0m, in \u001b[0;36mupload\u001b[1;34m(file, **options)\u001b[0m\n\u001b[0;32m     43\u001b[0m \u001b[38;5;28;01mdef\u001b[39;00m \u001b[38;5;21mupload\u001b[39m(file, \u001b[38;5;241m*\u001b[39m\u001b[38;5;241m*\u001b[39moptions):\n\u001b[0;32m     44\u001b[0m     params \u001b[38;5;241m=\u001b[39m utils\u001b[38;5;241m.\u001b[39mbuild_upload_params(\u001b[38;5;241m*\u001b[39m\u001b[38;5;241m*\u001b[39moptions)\n\u001b[1;32m---> 45\u001b[0m     \u001b[38;5;28;01mreturn\u001b[39;00m call_cacheable_api(\u001b[38;5;124m\"\u001b[39m\u001b[38;5;124mupload\u001b[39m\u001b[38;5;124m\"\u001b[39m, params, file\u001b[38;5;241m=\u001b[39mfile, \u001b[38;5;241m*\u001b[39m\u001b[38;5;241m*\u001b[39moptions)\n",
      "File \u001b[1;32md:\\techxaura\\venv\\lib\\site-packages\\cloudinary\\uploader.py:462\u001b[0m, in \u001b[0;36mcall_cacheable_api\u001b[1;34m(action, params, http_headers, return_error, unsigned, file, timeout, **options)\u001b[0m\n\u001b[0;32m    456\u001b[0m \u001b[38;5;28;01mdef\u001b[39;00m \u001b[38;5;21mcall_cacheable_api\u001b[39m(action, params, http_headers\u001b[38;5;241m=\u001b[39m\u001b[38;5;28;01mNone\u001b[39;00m, return_error\u001b[38;5;241m=\u001b[39m\u001b[38;5;28;01mFalse\u001b[39;00m, unsigned\u001b[38;5;241m=\u001b[39m\u001b[38;5;28;01mFalse\u001b[39;00m, file\u001b[38;5;241m=\u001b[39m\u001b[38;5;28;01mNone\u001b[39;00m, timeout\u001b[38;5;241m=\u001b[39m\u001b[38;5;28;01mNone\u001b[39;00m,\n\u001b[0;32m    457\u001b[0m                        \u001b[38;5;241m*\u001b[39m\u001b[38;5;241m*\u001b[39moptions):\n\u001b[0;32m    458\u001b[0m \u001b[38;5;250m    \u001b[39m\u001b[38;5;124;03m\"\"\"\u001b[39;00m\n\u001b[0;32m    459\u001b[0m \u001b[38;5;124;03m    Calls Upload API and saves results to cache (if enabled)\u001b[39;00m\n\u001b[0;32m    460\u001b[0m \u001b[38;5;124;03m    \"\"\"\u001b[39;00m\n\u001b[1;32m--> 462\u001b[0m     result \u001b[38;5;241m=\u001b[39m call_api(action, params, http_headers, return_error, unsigned, file, timeout, \u001b[38;5;241m*\u001b[39m\u001b[38;5;241m*\u001b[39moptions)\n\u001b[0;32m    464\u001b[0m     \u001b[38;5;28;01mif\u001b[39;00m \u001b[38;5;124m\"\u001b[39m\u001b[38;5;124muse_cache\u001b[39m\u001b[38;5;124m\"\u001b[39m \u001b[38;5;129;01min\u001b[39;00m options \u001b[38;5;129;01mor\u001b[39;00m cloudinary\u001b[38;5;241m.\u001b[39mconfig()\u001b[38;5;241m.\u001b[39muse_cache:\n\u001b[0;32m    465\u001b[0m         _save_responsive_breakpoints_to_cache(result)\n",
      "File \u001b[1;32md:\\techxaura\\venv\\lib\\site-packages\\cloudinary\\uploader.py:487\u001b[0m, in \u001b[0;36mcall_api\u001b[1;34m(action, params, http_headers, return_error, unsigned, file, timeout, extra_headers, **options)\u001b[0m\n\u001b[0;32m    485\u001b[0m     headers[\u001b[38;5;124m\"\u001b[39m\u001b[38;5;124mauthorization\u001b[39m\u001b[38;5;124m\"\u001b[39m] \u001b[38;5;241m=\u001b[39m \u001b[38;5;124m\"\u001b[39m\u001b[38;5;124mBearer \u001b[39m\u001b[38;5;132;01m{}\u001b[39;00m\u001b[38;5;124m\"\u001b[39m\u001b[38;5;241m.\u001b[39mformat(oauth_token)\n\u001b[0;32m    486\u001b[0m \u001b[38;5;28;01melif\u001b[39;00m \u001b[38;5;129;01mnot\u001b[39;00m unsigned:\n\u001b[1;32m--> 487\u001b[0m     params \u001b[38;5;241m=\u001b[39m \u001b[43mutils\u001b[49m\u001b[38;5;241;43m.\u001b[39;49m\u001b[43msign_request\u001b[49m\u001b[43m(\u001b[49m\u001b[43mparams\u001b[49m\u001b[43m,\u001b[49m\u001b[43m \u001b[49m\u001b[43moptions\u001b[49m\u001b[43m)\u001b[49m\n\u001b[0;32m    489\u001b[0m param_list \u001b[38;5;241m=\u001b[39m []\n\u001b[0;32m    490\u001b[0m \u001b[38;5;28;01mfor\u001b[39;00m k, v \u001b[38;5;129;01min\u001b[39;00m params\u001b[38;5;241m.\u001b[39mitems():\n",
      "File \u001b[1;32md:\\techxaura\\venv\\lib\\site-packages\\cloudinary\\utils.py:617\u001b[0m, in \u001b[0;36msign_request\u001b[1;34m(params, options)\u001b[0m\n\u001b[0;32m    615\u001b[0m api_key \u001b[38;5;241m=\u001b[39m options\u001b[38;5;241m.\u001b[39mget(\u001b[38;5;124m\"\u001b[39m\u001b[38;5;124mapi_key\u001b[39m\u001b[38;5;124m\"\u001b[39m, cloudinary\u001b[38;5;241m.\u001b[39mconfig()\u001b[38;5;241m.\u001b[39mapi_key)\n\u001b[0;32m    616\u001b[0m \u001b[38;5;28;01mif\u001b[39;00m \u001b[38;5;129;01mnot\u001b[39;00m api_key:\n\u001b[1;32m--> 617\u001b[0m     \u001b[38;5;28;01mraise\u001b[39;00m \u001b[38;5;167;01mValueError\u001b[39;00m(\u001b[38;5;124m\"\u001b[39m\u001b[38;5;124mMust supply api_key\u001b[39m\u001b[38;5;124m\"\u001b[39m)\n\u001b[0;32m    618\u001b[0m api_secret \u001b[38;5;241m=\u001b[39m options\u001b[38;5;241m.\u001b[39mget(\u001b[38;5;124m\"\u001b[39m\u001b[38;5;124mapi_secret\u001b[39m\u001b[38;5;124m\"\u001b[39m, cloudinary\u001b[38;5;241m.\u001b[39mconfig()\u001b[38;5;241m.\u001b[39mapi_secret)\n\u001b[0;32m    619\u001b[0m \u001b[38;5;28;01mif\u001b[39;00m \u001b[38;5;129;01mnot\u001b[39;00m api_secret:\n",
      "\u001b[1;31mValueError\u001b[0m: Must supply api_key"
     ]
    }
   ],
   "source": [
    "from config import cloudinary_secret_key, cloudinary_api_key, cloudinary_name\n",
    "\n",
    "import cloudinary\n",
    "import cloudinary.uploader\n",
    "\n",
    "# cloudinary.config( \n",
    "#     cloud_name = cloudinary_name, \n",
    "#     api_key = cloudinary_api_key, \n",
    "#     api_secret = cloudinary_secret_key, \n",
    "#     secure=True\n",
    "# )\n",
    "\n",
    "# upload_result = cloudinary.uploader.upload(\"demo.csv\",\n",
    "#                                            public_id=\"dataframe\", resource_type=\"raw\")\n",
    "\n",
    "upload_result = cloudinary.uploader.upload(f\"demo.csv\",\n",
    "                                    public_id='123', resource_type=\"raw\",\n",
    "                                    timeout=120000,\n",
    "                                    cloudinary_secret_key=cloudinary_secret_key, \n",
    "                                    cloudinary_api_key=cloudinary_api_key, \n",
    "                                    cloudinary_name=cloudinary_name)\n",
    "\n"
   ]
  },
  {
   "cell_type": "code",
   "execution_count": 4,
   "metadata": {},
   "outputs": [
    {
     "data": {
      "text/plain": [
       "['Error',\n",
       " 'HTTPError',\n",
       " 'OrderedDict',\n",
       " 'TEXT_PARAMS',\n",
       " 'UPLOAD_LARGE_CHUNK_SIZE',\n",
       " '_SLIDESHOW_PARAMS',\n",
       " '__builtins__',\n",
       " '__cached__',\n",
       " '__doc__',\n",
       " '__file__',\n",
       " '__loader__',\n",
       " '__name__',\n",
       " '__package__',\n",
       " '__spec__',\n",
       " '_http',\n",
       " '_save_responsive_breakpoints_to_cache',\n",
       " 'add_context',\n",
       " 'add_tag',\n",
       " 'build_eager',\n",
       " 'call_api',\n",
       " 'call_cacheable_api',\n",
       " 'call_context_api',\n",
       " 'call_tags_api',\n",
       " 'cloudinary',\n",
       " 'create_archive',\n",
       " 'create_slideshow',\n",
       " 'create_zip',\n",
       " 'destroy',\n",
       " 'download_generated_sprite',\n",
       " 'download_multi',\n",
       " 'explicit',\n",
       " 'explode',\n",
       " 'generate_sprite',\n",
       " 'is_appengine_sandbox',\n",
       " 'json',\n",
       " 'multi',\n",
       " 'os',\n",
       " 'remove_all_context',\n",
       " 'remove_all_tags',\n",
       " 'remove_tag',\n",
       " 'rename',\n",
       " 'replace_tag',\n",
       " 'responsive_breakpoints_cache_instance',\n",
       " 'socket',\n",
       " 'string_types',\n",
       " 'text',\n",
       " 'unsigned_upload',\n",
       " 'update_metadata',\n",
       " 'upload',\n",
       " 'upload_image',\n",
       " 'upload_large',\n",
       " 'upload_large_part',\n",
       " 'upload_options',\n",
       " 'upload_resource',\n",
       " 'utils']"
      ]
     },
     "execution_count": 4,
     "metadata": {},
     "output_type": "execute_result"
    }
   ],
   "source": [
    "dir(cloudinary.uploader)"
   ]
  },
  {
   "cell_type": "code",
   "execution_count": 3,
   "metadata": {},
   "outputs": [
    {
     "data": {
      "text/plain": [
       "'http://res.cloudinary.com/dqbmtsgn3/raw/upload/v1733063441/dataframe.csv'"
      ]
     },
     "execution_count": 3,
     "metadata": {},
     "output_type": "execute_result"
    }
   ],
   "source": [
    "upload_result['url']"
   ]
  },
  {
   "cell_type": "markdown",
   "metadata": {},
   "source": []
  },
  {
   "cell_type": "code",
   "execution_count": null,
   "metadata": {},
   "outputs": [],
   "source": []
  }
 ],
 "metadata": {
  "kernelspec": {
   "display_name": "venv",
   "language": "python",
   "name": "python3"
  },
  "language_info": {
   "codemirror_mode": {
    "name": "ipython",
    "version": 3
   },
   "file_extension": ".py",
   "mimetype": "text/x-python",
   "name": "python",
   "nbconvert_exporter": "python",
   "pygments_lexer": "ipython3",
   "version": "3.10.6"
  }
 },
 "nbformat": 4,
 "nbformat_minor": 2
}
