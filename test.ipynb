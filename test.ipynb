{
 "cells": [
  {
   "cell_type": "code",
   "execution_count": 1,
   "metadata": {},
   "outputs": [],
   "source": [
    "from apify_client import ApifyClient\n",
    "import pandas as pd\n",
    "\n",
    "token = \"apify_api_VkyngW03htx8rZW6YHn5g3pnveQdNo4d2ASc\"\n",
    "\n",
    "def scrape_data(token, hashtag1=None, hashtag2=None, hashtag3=None):\n",
    "    client = ApifyClient(token)\n",
    "    run_input = None\n",
    "    if hashtag1:\n",
    "        run_input = {\n",
    "        \"hashtags\": [hashtag1],\n",
    "        \"resultsLimit\": 5,\n",
    "        }\n",
    "    elif hashtag1 and hashtag2:\n",
    "        run_input = {\n",
    "        \"hashtags\": [hashtag1,hashtag2],\n",
    "        \"resultsLimit\": 10,\n",
    "        }\n",
    "    elif hashtag1 and hashtag2 and hashtag3:\n",
    "        run_input = {\n",
    "        \"hashtags\": [hashtag1,hashtag2,hashtag3],\n",
    "        \"resultsLimit\": 10,\n",
    "        }\n",
    "    \n",
    "    run = client.actor(\"reGe1ST3OBgYZSsZJ\").call(run_input=run_input)\n",
    "    items = list(client.dataset(run[\"defaultDatasetId\"]).iterate_items())\n",
    "    columns_list = list(items[0].keys())\n",
    "\n",
    "    dataframe = pd.DataFrame(items)\n",
    "    dataframe = dataframe.reindex(columns=columns_list, fill_value=None)\n",
    "\n",
    "    return dataframe"
   ]
  },
  {
   "cell_type": "code",
   "execution_count": 2,
   "metadata": {},
   "outputs": [],
   "source": [
    "scrapped_dataframe = scrape_data(token=token, hashtag1='webscraping')"
   ]
  },
  {
   "cell_type": "code",
   "execution_count": null,
   "metadata": {},
   "outputs": [],
   "source": [
    "def preprocessing_dataframe(dataframe):\n",
    "    try:\n",
    "        existed_dataframe = pd.read_csv('scrapped data/data.csv')\n",
    "        merged_data = pd.concat([existed_dataframe, dataframe], ignore_index=True)\n",
    "        merged_data = merged_data.drop_duplicates(subset='ownerUsername', keep='first')\n",
    "        merged_data.to_csv('scrapped data/data.csv', index=False)\n",
    "        return merged_data\n",
    "    except:\n",
    "        new_dataframe = dataframe\n",
    "        new_dataframe = dataframe.drop_duplicates(subset='ownerUsername', keep='first')\n",
    "        new_dataframe.to_csv('scrapped data/data.csv', index=False)\n",
    "        return new_dataframe\n",
    "    \n"
   ]
  },
  {
   "cell_type": "code",
   "execution_count": 5,
   "metadata": {},
   "outputs": [],
   "source": [
    "from apify_client import ApifyClient\n",
    "\n",
    "client = ApifyClient(\"apify_api_VkyngW03htx8rZW6YHn5g3pnveQdNo4d2ASc\")\n",
    "\n",
    "run_input = { \"usernames\": [\"ssdn_technologies\", \"pacificislands.ai\", \"fk_bytes\"]}\n",
    "\n",
    "run = client.actor(\"dSCLg0C3YEZ83HzYX\").call(run_input=run_input)\n",
    "\n",
    "items = list(client.dataset(run[\"defaultDatasetId\"]).iterate_items())\n",
    "\n"
   ]
  },
  {
   "cell_type": "code",
   "execution_count": 6,
   "metadata": {},
   "outputs": [],
   "source": [
    "columns_list = list(items[0].keys())\n",
    "\n",
    "dataframe = pd.DataFrame(items)\n",
    "dataframe = dataframe.reindex(columns=columns_list, fill_value=None)"
   ]
  },
  {
   "cell_type": "code",
   "execution_count": 10,
   "metadata": {},
   "outputs": [],
   "source": [
    "dataframe = dataframe[['username', 'fullName', 'biography', 'externalUrl', 'followersCount', 'followsCount', 'hasChannel',\n",
    "                       'highlightReelCount', 'isBusinessAccount', 'joinedRecently', 'businessCategoryName', \n",
    "                       'private', 'verified', 'postsCount', ]]\n",
    "\n",
    "dataframe = dataframe.drop_duplicates(keep='first')\n",
    "dataframe.to_csv('demo.csv', index=False)"
   ]
  },
  {
   "cell_type": "code",
   "execution_count": null,
   "metadata": {},
   "outputs": [
    {
     "data": {
      "text/plain": [
       "['SSDN Technologies', 'Pacific Islands AI', 'fikayo adele']"
      ]
     },
     "execution_count": 13,
     "metadata": {},
     "output_type": "execute_result"
    }
   ],
   "source": [
    "dataframe  = dataframe['ownerUsername'].to_list()\n",
    "dataframe"
   ]
  }
 ],
 "metadata": {
  "kernelspec": {
   "display_name": "Python 3",
   "language": "python",
   "name": "python3"
  },
  "language_info": {
   "codemirror_mode": {
    "name": "ipython",
    "version": 3
   },
   "file_extension": ".py",
   "mimetype": "text/x-python",
   "name": "python",
   "nbconvert_exporter": "python",
   "pygments_lexer": "ipython3",
   "version": "3.10.6"
  }
 },
 "nbformat": 4,
 "nbformat_minor": 2
}
