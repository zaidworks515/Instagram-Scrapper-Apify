{
 "cells": [
  {
   "cell_type": "code",
   "execution_count": null,
   "metadata": {},
   "outputs": [],
   "source": [
    "from apify_client import ApifyClient\n",
    "import pandas as pd\n",
    "\n",
    "token = \"apify_api_VkyngW03htx8rZW6YHn5g3pnveQdNo4d2ASc\"\n",
    "\n",
    "def scrape_data(token, hashtag1=None, hashtag2=None, hashtag3=None):\n",
    "    client = ApifyClient(token)\n",
    "    run_input = None\n",
    "    if hashtag1:\n",
    "        run_input = {\n",
    "        \"hashtags\": [hashtag1],\n",
    "        \"resultsLimit\": 5,\n",
    "        }\n",
    "    elif hashtag1 and hashtag2:\n",
    "        run_input = {\n",
    "        \"hashtags\": [hashtag1,hashtag2],\n",
    "        \"resultsLimit\": 10,\n",
    "        }\n",
    "    elif hashtag1 and hashtag2 and hashtag3:\n",
    "        run_input = {\n",
    "        \"hashtags\": [hashtag1,hashtag2,hashtag3],\n",
    "        \"resultsLimit\": 10,\n",
    "        }\n",
    "    \n",
    "    \n",
    "    run = client.actor(\"reGe1ST3OBgYZSsZJ\").call(run_input=run_input)\n",
    "    items = list(client.dataset(run[\"defaultDatasetId\"]).iterate_items())\n",
    "    columns_list = list(items[0].keys())\n",
    "\n",
    "    dataframe = pd.DataFrame(items)\n",
    "    dataframe = dataframe.reindex(columns=columns_list, fill_value=None)\n",
    "\n",
    "\n",
    "    return dataframe\n"
   ]
  },
  {
   "cell_type": "code",
   "execution_count": null,
   "metadata": {},
   "outputs": [],
   "source": [
    "scrapped_dataframe = scrape_data(token=token, hashtag1='webscraping')"
   ]
  }
 ],
 "metadata": {
  "kernelspec": {
   "display_name": "Python 3",
   "language": "python",
   "name": "python3"
  },
  "language_info": {
   "codemirror_mode": {
    "name": "ipython",
    "version": 3
   },
   "file_extension": ".py",
   "mimetype": "text/x-python",
   "name": "python",
   "nbconvert_exporter": "python",
   "pygments_lexer": "ipython3",
   "version": "3.10.6"
  }
 },
 "nbformat": 4,
 "nbformat_minor": 2
}
